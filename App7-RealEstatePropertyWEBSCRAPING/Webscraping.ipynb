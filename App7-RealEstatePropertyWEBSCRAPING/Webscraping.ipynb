{
 "cells": [
  {
   "cell_type": "code",
   "execution_count": 1,
   "metadata": {},
   "outputs": [],
   "source": [
    "import requests\n",
    "from bs4 import BeautifulSoup\n"
   ]
  },
  {
   "cell_type": "code",
   "execution_count": 2,
   "metadata": {},
   "outputs": [
    {
     "data": {
      "text/plain": [
       "requests.models.Response"
      ]
     },
     "execution_count": 2,
     "metadata": {},
     "output_type": "execute_result"
    }
   ],
   "source": [
    "r = requests.get(\"http://pythonhow.com/example.html\")\n",
    "type(r)"
   ]
  },
  {
   "cell_type": "code",
   "execution_count": 3,
   "metadata": {},
   "outputs": [
    {
     "data": {
      "text/plain": [
       "bytes"
      ]
     },
     "execution_count": 3,
     "metadata": {},
     "output_type": "execute_result"
    }
   ],
   "source": [
    "c= r.content\n",
    "type(c)"
   ]
  },
  {
   "cell_type": "code",
   "execution_count": 4,
   "metadata": {},
   "outputs": [
    {
     "data": {
      "text/plain": [
       "b'<!DOCTYPE html>\\n<html>\\n<head>\\n<style>\\ndiv.cities {\\n    background-color:black;\\n    color:white;\\n    margin:20px;\\n    padding:20px;\\n} \\n</style>\\n</head>\\n<body>\\n<h1 align=\"center\"> Here are three big cities </h1>\\n<div class=\"cities\">\\n<h2>London</h2>\\n<p>London is the capital of England and it\\'s been a British settlement since 2000 years ago. </p>\\n</div>\\n<div class=\"cities\">\\n<h2>Paris</h2>\\n<p>Paris is the capital city of France. It was declared capital since 508.</p>\\n</div>\\n<div class=\"cities\">\\n<h2>Tokyo</h2>\\n<p>Tokyo is the capital of Japan and one of the most populated cities in the world.</p>\\n</div>\\n</body>\\n</html>'"
      ]
     },
     "execution_count": 4,
     "metadata": {},
     "output_type": "execute_result"
    }
   ],
   "source": [
    "c\n"
   ]
  },
  {
   "cell_type": "code",
   "execution_count": 5,
   "metadata": {},
   "outputs": [],
   "source": [
    "soup = BeautifulSoup(c,\"html.parser\")"
   ]
  },
  {
   "cell_type": "code",
   "execution_count": 6,
   "metadata": {},
   "outputs": [
    {
     "name": "stdout",
     "output_type": "stream",
     "text": [
      "<!DOCTYPE html>\n",
      "<html>\n",
      " <head>\n",
      "  <style>\n",
      "   div.cities {\n",
      "    background-color:black;\n",
      "    color:white;\n",
      "    margin:20px;\n",
      "    padding:20px;\n",
      "}\n",
      "  </style>\n",
      " </head>\n",
      " <body>\n",
      "  <h1 align=\"center\">\n",
      "   Here are three big cities\n",
      "  </h1>\n",
      "  <div class=\"cities\">\n",
      "   <h2>\n",
      "    London\n",
      "   </h2>\n",
      "   <p>\n",
      "    London is the capital of England and it's been a British settlement since 2000 years ago.\n",
      "   </p>\n",
      "  </div>\n",
      "  <div class=\"cities\">\n",
      "   <h2>\n",
      "    Paris\n",
      "   </h2>\n",
      "   <p>\n",
      "    Paris is the capital city of France. It was declared capital since 508.\n",
      "   </p>\n",
      "  </div>\n",
      "  <div class=\"cities\">\n",
      "   <h2>\n",
      "    Tokyo\n",
      "   </h2>\n",
      "   <p>\n",
      "    Tokyo is the capital of Japan and one of the most populated cities in the world.\n",
      "   </p>\n",
      "  </div>\n",
      " </body>\n",
      "</html>\n"
     ]
    }
   ],
   "source": [
    "print(soup.prettify())"
   ]
  },
  {
   "cell_type": "code",
   "execution_count": 7,
   "metadata": {},
   "outputs": [
    {
     "data": {
      "text/plain": [
       "[<div class=\"cities\">\n",
       " <h2>London</h2>\n",
       " <p>London is the capital of England and it's been a British settlement since 2000 years ago. </p>\n",
       " </div>, <div class=\"cities\">\n",
       " <h2>Paris</h2>\n",
       " <p>Paris is the capital city of France. It was declared capital since 508.</p>\n",
       " </div>, <div class=\"cities\">\n",
       " <h2>Tokyo</h2>\n",
       " <p>Tokyo is the capital of Japan and one of the most populated cities in the world.</p>\n",
       " </div>]"
      ]
     },
     "execution_count": 7,
     "metadata": {},
     "output_type": "execute_result"
    }
   ],
   "source": [
    "soup.find_all(\"div\")"
   ]
  },
  {
   "cell_type": "code",
   "execution_count": 8,
   "metadata": {},
   "outputs": [],
   "source": [
    "all = soup.find_all(\"div\",{\"class\":\"cities\"})"
   ]
  },
  {
   "cell_type": "code",
   "execution_count": 9,
   "metadata": {},
   "outputs": [
    {
     "name": "stdout",
     "output_type": "stream",
     "text": [
      "[<div class=\"cities\">\n",
      "<h2>London</h2>\n",
      "<p>London is the capital of England and it's been a British settlement since 2000 years ago. </p>\n",
      "</div>, <div class=\"cities\">\n",
      "<h2>Paris</h2>\n",
      "<p>Paris is the capital city of France. It was declared capital since 508.</p>\n",
      "</div>, <div class=\"cities\">\n",
      "<h2>Tokyo</h2>\n",
      "<p>Tokyo is the capital of Japan and one of the most populated cities in the world.</p>\n",
      "</div>]\n"
     ]
    }
   ],
   "source": [
    "print(all)"
   ]
  },
  {
   "cell_type": "markdown",
   "metadata": {},
   "source": [
    "To find the first occurence of the element that we mention"
   ]
  },
  {
   "cell_type": "code",
   "execution_count": 10,
   "metadata": {},
   "outputs": [],
   "source": [
    "all1 = soup.find(\"div\",{\"class\":\"cities\"})"
   ]
  },
  {
   "cell_type": "code",
   "execution_count": 11,
   "metadata": {},
   "outputs": [
    {
     "name": "stdout",
     "output_type": "stream",
     "text": [
      "<div class=\"cities\">\n",
      "<h2>London</h2>\n",
      "<p>London is the capital of England and it's been a British settlement since 2000 years ago. </p>\n",
      "</div>\n"
     ]
    }
   ],
   "source": [
    "print(all1)"
   ]
  },
  {
   "cell_type": "code",
   "execution_count": 12,
   "metadata": {},
   "outputs": [
    {
     "data": {
      "text/plain": [
       "bs4.element.Tag"
      ]
     },
     "execution_count": 12,
     "metadata": {},
     "output_type": "execute_result"
    }
   ],
   "source": [
    "type(all1)"
   ]
  },
  {
   "cell_type": "code",
   "execution_count": 13,
   "metadata": {},
   "outputs": [
    {
     "data": {
      "text/plain": [
       "bs4.element.ResultSet"
      ]
     },
     "execution_count": 13,
     "metadata": {},
     "output_type": "execute_result"
    }
   ],
   "source": [
    "type(all)"
   ]
  },
  {
   "cell_type": "code",
   "execution_count": 14,
   "metadata": {},
   "outputs": [
    {
     "name": "stdout",
     "output_type": "stream",
     "text": [
      "<div class=\"cities\">\n",
      "<h2>London</h2>\n",
      "<p>London is the capital of England and it's been a British settlement since 2000 years ago. </p>\n",
      "</div>\n"
     ]
    }
   ],
   "source": [
    "all2 = soup.find_all(\"div\",{\"class\":\"cities\"})[0]\n",
    "print(all2)"
   ]
  },
  {
   "cell_type": "code",
   "execution_count": 15,
   "metadata": {},
   "outputs": [
    {
     "name": "stdout",
     "output_type": "stream",
     "text": [
      "[<h2>London</h2>]\n"
     ]
    }
   ],
   "source": [
    "all3 = all2.find_all(\"h2\")\n",
    "print(all3)"
   ]
  },
  {
   "cell_type": "code",
   "execution_count": 16,
   "metadata": {},
   "outputs": [
    {
     "name": "stdout",
     "output_type": "stream",
     "text": [
      "London\n"
     ]
    }
   ],
   "source": [
    "print(all3[0].text)"
   ]
  },
  {
   "cell_type": "code",
   "execution_count": 25,
   "metadata": {},
   "outputs": [
    {
     "name": "stdout",
     "output_type": "stream",
     "text": [
      "London\n",
      "Paris\n",
      "Tokyo\n"
     ]
    }
   ],
   "source": [
    "for i in all:\n",
    "    element = i.find_all(\"h2\")[0].text\n",
    "    print(element)"
   ]
  },
  {
   "cell_type": "code",
   "execution_count": null,
   "metadata": {},
   "outputs": [],
   "source": [
    "for i in all:\n",
    "    element = i.find_all(\"p\")[0].text\n",
    "    print(element)"
   ]
  }
 ],
 "metadata": {
  "kernelspec": {
   "display_name": "Python 3",
   "language": "python",
   "name": "python3"
  },
  "language_info": {
   "codemirror_mode": {
    "name": "ipython",
    "version": 3
   },
   "file_extension": ".py",
   "mimetype": "text/x-python",
   "name": "python",
   "nbconvert_exporter": "python",
   "pygments_lexer": "ipython3",
   "version": "3.7.2"
  }
 },
 "nbformat": 4,
 "nbformat_minor": 2
}
